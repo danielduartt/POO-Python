{
  "nbformat": 4,
  "nbformat_minor": 0,
  "metadata": {
    "colab": {
      "provenance": [],
      "authorship_tag": "ABX9TyPQfJXMoO5K2iJTrpt/pAMV",
      "include_colab_link": true
    },
    "kernelspec": {
      "name": "python3",
      "display_name": "Python 3"
    },
    "language_info": {
      "name": "python"
    }
  },
  "cells": [
    {
      "cell_type": "markdown",
      "metadata": {
        "id": "view-in-github",
        "colab_type": "text"
      },
      "source": [
        "<a href=\"https://colab.research.google.com/github/danielduartt/POO-Python/blob/main/POO_Python_Resumo.ipynb\" target=\"_parent\"><img src=\"https://colab.research.google.com/assets/colab-badge.svg\" alt=\"Open In Colab\"/></a>"
      ]
    },
    {
      "cell_type": "markdown",
      "source": [
        "#Classes e Intro a POO"
      ],
      "metadata": {
        "id": "w95pk9hGCm0W"
      }
    },
    {
      "cell_type": "code",
      "source": [
        "class Computer:\n",
        "   def __init__(self): #construtor\n",
        "      self.marca = 'Asus'\n",
        "      self.memoria = '8Gb'\n",
        "      self.placa_de_video = \"NVIDIA\"\n",
        "#marca, memória ram, placa de vídeo\n",
        "computador = Computer()\n",
        "print(computador.marca)\n",
        "print(computador.placa_de_video)\n",
        "print(computador.memoria)"
      ],
      "metadata": {
        "colab": {
          "base_uri": "https://localhost:8080/"
        },
        "id": "CDelJqZjDpzB",
        "outputId": "314934db-92ea-40b3-ebf0-232f2525c5fd"
      },
      "execution_count": null,
      "outputs": [
        {
          "output_type": "stream",
          "name": "stdout",
          "text": [
            "Asus\n",
            "NVIDIA\n",
            "8Gb\n"
          ]
        }
      ]
    },
    {
      "cell_type": "code",
      "source": [
        "#forma dinâmica\n",
        "class Computer_Dynamic:\n",
        "  def __init__(self, marca, memoria, placa_de_video):\n",
        "    self.marca = marca\n",
        "    self.memoria = memoria\n",
        "    self.placa_de_video = placa_de_video\n",
        "computador_dinamico = Computer_Dynamic('Acer','16GB','AMD')\n",
        "print(computador_dinamico.marca)\n",
        "print(computador_dinamico.memoria)\n",
        "print(computador_dinamico.placa_de_video)"
      ],
      "metadata": {
        "colab": {
          "base_uri": "https://localhost:8080/"
        },
        "id": "y0zklNCfFUPv",
        "outputId": "c1460249-e69c-4eec-8a13-afa855e7e1c1"
      },
      "execution_count": null,
      "outputs": [
        {
          "output_type": "stream",
          "name": "stdout",
          "text": [
            "Acer\n",
            "16GB\n",
            "AMD\n"
          ]
        }
      ]
    },
    {
      "cell_type": "markdown",
      "source": [
        "#Métodos de uma Classe"
      ],
      "metadata": {
        "id": "L3TF3x_TGZGF"
      }
    },
    {
      "cell_type": "code",
      "source": [
        "#marca, memoria ram, placa de video\n",
        "#métodos: ligar, desligar e exibir dados\n",
        "class Computer_Update:\n",
        "  def __init__(self, marca, memoria, placa_de_video):\n",
        "    self.marca = marca\n",
        "    self.memoria = memoria\n",
        "    self.placa_de_video = placa_de_video\n",
        "    self.ligado = False\n",
        "\n",
        "  def ligar(self):\n",
        "    if self.ligado:\n",
        "      print(\"Já estou ligado\")\n",
        "    else:\n",
        "      print(\"Estou Ligando\")\n",
        "      self.ligado = True\n",
        "\n",
        "  def desligar(self):\n",
        "    if self.ligado:\n",
        "      print(\"Estou desligando\")\n",
        "      self.ligado = False\n",
        "    else:\n",
        "      print(\"Já estou desligado \")\n",
        "\n",
        "  def exibir_dados(self):\n",
        "    print(self.marca)\n",
        "    print(self.memoria)\n",
        "    print(self.placa_de_video)\n",
        "\n",
        "computador_maneiro = Computer_Update(\"Lenovo\",\"32GB\",'RTX')\n",
        "computador_maneiro.exibir_dados()\n",
        "computador_maneiro.ligar()\n",
        "computador_maneiro.ligar()\n",
        "computador_maneiro.desligar()"
      ],
      "metadata": {
        "colab": {
          "base_uri": "https://localhost:8080/"
        },
        "id": "rtD73EeCGfhJ",
        "outputId": "061e2f0b-74c4-48c0-bfe3-137f384a4f21"
      },
      "execution_count": null,
      "outputs": [
        {
          "output_type": "stream",
          "name": "stdout",
          "text": [
            "Lenovo\n",
            "32GB\n",
            "RTX\n",
            "Estou Ligando\n",
            "Já estou ligado\n",
            "Estou desligando\n"
          ]
        }
      ]
    },
    {
      "cell_type": "markdown",
      "source": [
        "#Tipos de variáveis em uma classe"
      ],
      "metadata": {
        "id": "HNBIQtTdIyGr"
      }
    },
    {
      "cell_type": "markdown",
      "source": [
        "<p>Até então estamos usando apenas variáveis da instância, pois a única maneira de modificar ou acessar esses valores é por uma instância da classe<p>"
      ],
      "metadata": {
        "id": "qOcG2p3lI5di"
      }
    },
    {
      "cell_type": "code",
      "source": [
        "computador_maneiro2 = Computer_Update(\"Lenovo\",\"32GB\",'RTX')\n",
        "print(computador_maneiro2.marca)\n",
        "computador_maneiro2.marca = 'Acer'\n",
        "print(computador_maneiro2.marca)"
      ],
      "metadata": {
        "colab": {
          "base_uri": "https://localhost:8080/"
        },
        "id": "a-0Dfzx4I190",
        "outputId": "174be53f-5286-4dfa-ff67-a1fe871d9f1c"
      },
      "execution_count": null,
      "outputs": [
        {
          "output_type": "stream",
          "name": "stdout",
          "text": [
            "Lenovo\n",
            "Acer\n"
          ]
        }
      ]
    },
    {
      "cell_type": "markdown",
      "source": [
        "<h2>Variáveis de Classe<h2>\n",
        "<p>Imagine que todo computador venha com o Windows 10<p>"
      ],
      "metadata": {
        "id": "vCSXogfeJcUf"
      }
    },
    {
      "cell_type": "code",
      "source": [
        "class Computador:\n",
        "  SO = 'Windows 10'\n",
        "  def __init__(self, marca, memoria, placa_de_video):\n",
        "    self.marca = marca\n",
        "    self.memoria = memoria\n",
        "    self.placa_de_video = placa_de_video\n",
        "    self.ligado = False\n",
        "\n",
        "  def ligar(self):\n",
        "    if self.ligado:\n",
        "      print(\"Já estou ligado\")\n",
        "    else:\n",
        "      print(\"Estou Ligando\")\n",
        "      self.ligado = True\n",
        "\n",
        "  def desligar(self):\n",
        "    if self.ligado:\n",
        "      print(\"Estou desligando\")\n",
        "      self.ligado = False\n",
        "    else:\n",
        "      print(\"Já estou desligado \")\n",
        "\n",
        "  def exibir_dados(self):\n",
        "    print(self.marca)\n",
        "    print(self.memoria)\n",
        "    print(self.placa_de_video)\n",
        "\n",
        "print(Computador.SO)\n",
        "Computador.SO = 'linux'\n",
        "print(Computador.SO)\n",
        "#Todas a muda a variável de classes, todas as instâncias sofrem essa mudança"
      ],
      "metadata": {
        "colab": {
          "base_uri": "https://localhost:8080/"
        },
        "id": "WRPAAi8KJhdU",
        "outputId": "c14eb2a7-a8e8-4241-b996-4dbbce37f616"
      },
      "execution_count": null,
      "outputs": [
        {
          "output_type": "stream",
          "name": "stdout",
          "text": [
            "Windows 10\n",
            "linux\n"
          ]
        }
      ]
    },
    {
      "cell_type": "markdown",
      "source": [
        "#Métodos Comuns Vs Instâncias Vs Classes\n",
        "\n",
        "\n",
        "* Métodos Comuns\n",
        "* Métodos estáticos(Statics Methods)\n",
        "* Métodos de Classe(Class Methods)\n",
        "\n"
      ],
      "metadata": {
        "id": "4QaR32QiK2tK"
      }
    },
    {
      "cell_type": "code",
      "source": [
        "#Método comum = > acessa as propriedades da instância (operam em cima dos dados de uma intância)\n",
        "#Métodos de Classes, para entender melhor vou adicionar algumas informações a nossa class computador\n",
        "#agora teremos opções de configuração:\n",
        "#   -Computador para escritório\n",
        "#   -Computador para jogos,vídeo e etc....\n",
        "\n",
        "class Computador_2:\n",
        "  SO = 'Windows 10'\n",
        "  def __init__(self, marca, memoria, placa_de_video):\n",
        "    self.marca = marca\n",
        "    self.memoria = memoria\n",
        "    self.placa_de_video = placa_de_video\n",
        "    self.ligado = False\n",
        "\n",
        "  def ligar(self):\n",
        "    if self.ligado:\n",
        "      print(\"Já estou ligado\")\n",
        "    else:\n",
        "      print(\"Estou Ligando\")\n",
        "      self.ligado = True\n",
        "\n",
        "  def desligar(self):\n",
        "    if self.ligado:\n",
        "      print(\"Estou desligando\")\n",
        "      self.ligado = False\n",
        "    else:\n",
        "      print(\"Já estou desligado \")\n",
        "\n",
        "  def exibir_dados(self):\n",
        "    print(self.marca)\n",
        "    print(self.memoria)\n",
        "    print(self.placa_de_video)\n",
        "\n",
        "  @classmethod\n",
        "  def computador_escritório(cls,memoria):  #cls é uma convenção, estou passando a classes inteira, e não a instancia\n",
        "      return cls(\"Dell\", memoria, 'Integrada')\n",
        "  @classmethod\n",
        "  def computador_game(cls, memoria):\n",
        "      return cls('Dell', memoria, 'RTX')\n",
        "\n",
        "computador_escritório = Computador_2.computador_escritório('8GB')\n",
        "computador_escritório.exibir_dados()\n"
      ],
      "metadata": {
        "colab": {
          "base_uri": "https://localhost:8080/"
        },
        "id": "5wy_jpF3KHDc",
        "outputId": "822b2b5f-a62b-44f5-c836-a475e4e31e58"
      },
      "execution_count": null,
      "outputs": [
        {
          "output_type": "stream",
          "name": "stdout",
          "text": [
            "Dell\n",
            "8GB\n",
            "Integrada\n"
          ]
        }
      ]
    },
    {
      "cell_type": "code",
      "source": [
        "#Métodos Estáticos, não usam a instância da classe através do self\n",
        "#e não modificam as propriedades da classes com o cls\n",
        "\n",
        "class Computador_3:\n",
        "  SO = 'Windows 10'\n",
        "  def __init__(self, marca, memoria, placa_de_video):\n",
        "    self.marca = marca\n",
        "    self.memoria = memoria\n",
        "    self.placa_de_video = placa_de_video\n",
        "    self.ligado = False\n",
        "\n",
        "  def ligar(self):\n",
        "    if self.ligado:\n",
        "      print(\"Já estou ligado\")\n",
        "    else:\n",
        "      print(\"Estou Ligando\")\n",
        "      self.ligado = True\n",
        "\n",
        "  def desligar(self):\n",
        "    if self.ligado:\n",
        "      print(\"Estou desligando\")\n",
        "      self.ligado = False\n",
        "    else:\n",
        "      print(\"Já estou desligado \")\n",
        "\n",
        "  def exibir_dados(self):\n",
        "    print(self.marca)\n",
        "    print(self.memoria)\n",
        "    print(self.placa_de_video)\n",
        "\n",
        "  @classmethod\n",
        "  def computador_escritório(cls,memoria):  #cls é uma convenção, estou passando a classes inteira, e não a instancia\n",
        "      return cls(\"Dell\", memoria, 'Integrada')\n",
        "\n",
        "  @classmethod\n",
        "  def computador_game(cls, memoria):\n",
        "      return cls('Dell', memoria, 'RTX')\n",
        "\n",
        "  @staticmethod\n",
        "  def roda_games(memoria):\n",
        "    if memoria >= 8:\n",
        "      return True\n",
        "    else:\n",
        "      return False\n",
        "\n",
        "computador_random = Computador_3.computador_game('16GB')\n",
        "print(computador_random.roda_games(16))\n"
      ],
      "metadata": {
        "colab": {
          "base_uri": "https://localhost:8080/"
        },
        "id": "6v4-FLqRM47Q",
        "outputId": "38dee7c8-999c-419e-c5ea-48e5d77cb73a"
      },
      "execution_count": null,
      "outputs": [
        {
          "output_type": "stream",
          "name": "stdout",
          "text": [
            "True\n"
          ]
        }
      ]
    },
    {
      "cell_type": "markdown",
      "source": [
        "# Herança Simples\n"
      ],
      "metadata": {
        "id": "2cQS7-E5V5Lf"
      }
    },
    {
      "cell_type": "code",
      "source": [
        "class Camera:\n",
        "\n",
        "  def __init__(self, marca, megapixels):\n",
        "    self.marca = marca\n",
        "    self.megapixels = megapixels\n",
        "\n",
        "  def tirar_foto(self):\n",
        "    print(f\"Foto tirada com a câmera {self.marca} com {self.megapixels} megapixels\")\n",
        "\n",
        "class CameraCelular(Camera):\n",
        "  def __init__(self, marca, megapixels, quantidade_de_cameras):\n",
        "    super().__init__(marca,megapixels)\n",
        "    self.quantidade_de_cameras = quantidade_de_cameras\n",
        "\n",
        "  def aplicar_filtro(self, filtro):\n",
        "    print(f\"Aplicando filtro {filtro}\")\n",
        "\n",
        "  #posso modificar os métodos da classe pai\n",
        "  def tirar_foto(self, camera_utilizada):\n",
        "    print(f\"Foto tirada com a câmera {self.marca} com {self.megapixels} megapixels\")\n",
        "    print(f\"Utilizando a câmera {camera_utilizada} do celular\")\n",
        "\n",
        "#Mais de um classe pode herda de uma mesma classe pai\n",
        "class CameraSegurança(Camera):\n",
        "  pass\n",
        "\n",
        "camera = CameraCelular('Sony','16mp', 4)\n",
        "camera.aplicar_filtro('azul')\n",
        "camera.tirar_foto(2)"
      ],
      "metadata": {
        "colab": {
          "base_uri": "https://localhost:8080/"
        },
        "id": "EKf8xA67V8xS",
        "outputId": "f8b471d7-5aaf-478b-dbf5-24d4cc5ff0cd"
      },
      "execution_count": null,
      "outputs": [
        {
          "output_type": "stream",
          "name": "stdout",
          "text": [
            "Aplicando filtro azul\n",
            "Foto tirada com a câmera Sony com 16mp megapixels\n",
            "Utilizando a câmera 2\n"
          ]
        }
      ]
    },
    {
      "cell_type": "markdown",
      "source": [
        "#Herança de Multinível\n"
      ],
      "metadata": {
        "id": "CNUNITztYU46"
      }
    },
    {
      "cell_type": "code",
      "source": [
        "#Um nível de herança\n",
        "class Usuario:\n",
        "  def __init__(self,nome,salario,profissao):\n",
        "    self.nome = nome\n",
        "    self.salario = salario\n",
        "    self.profissao = profissao\n",
        "\n",
        "  def registrar_funcionario(self):\n",
        "    print(f\"Cadatrando usuário {self.nome}\")\n",
        "\n",
        "class Gestor(Usuario):\n",
        "  def __init__(self,nome,salario,profissao,setor_responsavel):\n",
        "    super().__init__(nome,salario,profissao)\n",
        "    self.setor_responsavel = setor_responsavel\n",
        "\n",
        "  def definir_setor(self, setor):\n",
        "    print(f\"Definindo setor para {setor}\")\n",
        "    self.setor_responsavel = setor\n",
        "\n",
        "usuario1 = Usuario('Camila', 500, 'Analista de Software')\n",
        "gestor = Gestor('ROberta', 7000, 'Gestora', 'Gestão de Projetos')"
      ],
      "metadata": {
        "id": "-GIQY7_fYcXW"
      },
      "execution_count": null,
      "outputs": []
    },
    {
      "cell_type": "code",
      "source": [
        "#Herança de multinível (deve-se evitar)\n",
        "\n",
        "class Veiculos:\n",
        "  pass\n",
        "\n",
        "class VeiculosDeRoda(Veiculos):\n",
        "  pass\n",
        "\n",
        "class Carro(VeiculosDeRoda):\n",
        "  pass\n",
        "\n",
        "class Carro_eletrico(Carro):\n",
        "  pass\n",
        "\n",
        "class Carro_eletrico_2_rodas(Carro_eletrico):\n",
        "  pass"
      ],
      "metadata": {
        "id": "M3maAjGuZbnN"
      },
      "execution_count": null,
      "outputs": []
    },
    {
      "cell_type": "markdown",
      "source": [
        "#Herança Múltipla\n",
        "permite utilizar as propriedades e métodos de mais de uma classe. Porém, se as prop e os métodos de ambas as classes tiverem o mesmo nome, qual vai ser executada primeiro?!\n",
        "- Isso vai depender do MRO(Method Resolution Order)\n"
      ],
      "metadata": {
        "id": "zWyHc_MJaLDe"
      }
    },
    {
      "cell_type": "code",
      "source": [
        "class Pessoa:\n",
        "  nome = 'Sou uma pessoa'\n",
        "  def convidar(self):\n",
        "    print(\"Olá sou uma pessoa, vamos ao evento?\")\n",
        "\n",
        "class Profissional:\n",
        "  nome = 'Sou profissional'\n",
        "  def convidar(self):\n",
        "    print(\"Olá sou um profisisonal, vamos ao evento?\")\n",
        "\n",
        "class AtorProfissional(Pessoa, Profissional):\n",
        "  pass"
      ],
      "metadata": {
        "id": "3Q5s_zoraQhO"
      },
      "execution_count": null,
      "outputs": []
    },
    {
      "cell_type": "markdown",
      "source": [
        "#Magic/Dunder Methods(Métodos Especiais) ou Double UnderScore"
      ],
      "metadata": {
        "id": "AtBGDjaXc-da"
      }
    },
    {
      "cell_type": "code",
      "source": [
        "class Pessoa:\n",
        "  def __init__(self):\n",
        "    self.nome = 'Sou uma pessoa'\n",
        "    self.habilidades = ['Habilidade 1', 'Habilidade 2', 'Habilidade 3']\n",
        "#Métodos mágicos mais comuns\n",
        "\n",
        "  def __repr__(self): #Criar uma representação da classe, para quando alguem queira\n",
        "                      #identificar qual a representação e qual a utilidade da classe\n",
        "    return 'Classe Pessoa com propriedades nome e habilidades'\n",
        "\n",
        "  def __len__(self):\n",
        "    #len(pessoa) ? qual a prop que eu quero que seja retornado\n",
        "    return len(self.habilidades)\n",
        "\n",
        "  def __str__(self): #permite criar uma representação legível da classe no formato de str\n",
        "    return f\"{self.nome} com as habilidades {self.habilidades}\"\n",
        "\n",
        "pessoa = Pessoa()\n",
        "print(pessoa.nome)\n",
        "print(\"-----------------------------------------------------------------\")\n",
        "print(repr(pessoa))\n",
        "print(\"-----------------------------------------------------------------\")\n",
        "print(len(pessoa))\n",
        "print(\"-----------------------------------------------------------------\")\n",
        "print(pessoa)\n",
        "print(\"-----------------------------------------------------------------\")\n"
      ],
      "metadata": {
        "id": "Ovfv-fhmdeCK",
        "colab": {
          "base_uri": "https://localhost:8080/"
        },
        "outputId": "c9c1f97c-6b9d-4e08-9a91-2d63fde7db99"
      },
      "execution_count": 5,
      "outputs": [
        {
          "output_type": "stream",
          "name": "stdout",
          "text": [
            "Sou uma pessoa\n",
            "-----------------------------------------------------------------\n",
            "Classe Pessoa com propriedades nome e habilidades\n",
            "-----------------------------------------------------------------\n",
            "3\n",
            "-----------------------------------------------------------------\n",
            "Sou uma pessoa com as habilidades ['Habilidade 1', 'Habilidade 2', 'Habilidade 3']\n",
            "-----------------------------------------------------------------\n"
          ]
        }
      ]
    },
    {
      "cell_type": "markdown",
      "source": [
        "#Classes abstratas\n",
        "cria um 'contrato' que obriga que algo seja implementado nas classes que herdam"
      ],
      "metadata": {
        "id": "KzFK1uBaFjrG"
      }
    },
    {
      "cell_type": "code",
      "source": [
        "from abc import ABC, abstractclassmethod #importando a classe abstrada\n",
        "\n",
        "class Camera(ABC):\n",
        "  @abstractclassmethod\n",
        "  def definir_tamanho_lente(self, tamanho):\n",
        "    pass\n",
        "\n",
        "class CameraProfissional(Camera):\n",
        "  #vou definir esse método\n",
        "  def definir_tamanho_lente(self, tamanho):\n",
        "    pass\n",
        "  #Por mais que nao tenha implementado a funcionalidade, só o fato de definir o método\n",
        "  #ja faz com que o erro suma\n",
        "\n",
        "cameraProfissional = CameraProfissional()\n",
        "#caso Rode esse código sem implementar o método 'definir_tamanho_lente'\n",
        "# TypeError: Can't instantiate abstract class CameraProfissional\n",
        "# with abstract method definir_tamanho_lente"
      ],
      "metadata": {
        "id": "KiCjvfU6Fyht"
      },
      "execution_count": 7,
      "outputs": []
    },
    {
      "cell_type": "markdown",
      "source": [
        "<h3>Desafio<h3>\n",
        "<p>crie uma classe abstrata chamada monitor, que irá ter 2 métodos abstratos<p>\n",
        "- aumenta_claridade e reduzir_claridade\n",
        "<p>Os métodos iram receber um número que representam o quanto de claridade deve ser aumentado ou diminuido ao chamar eles<p>\n",
        "<p>Após ter criado a classe anstrata, crie uma nova classe chamada MonitorFullHD e coloque a implementação dos métodos aumentar_claridade e reduzir_claridade dentro deles\n"
      ],
      "metadata": {
        "id": "PD0XoQRVHAW0"
      }
    },
    {
      "cell_type": "code",
      "source": [
        "from abc import ABC, abstractclassmethod\n",
        "\n",
        "class Monitor(ABC):\n",
        "  @abstractclassmethod\n",
        "  def aumentar_claridade(self, Qtd):\n",
        "    pass\n",
        "  @abstractclassmethod\n",
        "  def diminuir_claridade(self,Qtd):\n",
        "    pass\n",
        "\n",
        "\n",
        "class MonitorFullHD(Monitor):\n",
        "  def aumentar_claridade(self,Qtd):\n",
        "    print(\"Aumentando a claridade em {}%\".format(Qtd))\n",
        "  def diminuir_claridade(self,Qtd):\n",
        "    print(f\"Diminuindo a claridade em {Qtd}%\")"
      ],
      "metadata": {
        "id": "MAxoUygHHkAh"
      },
      "execution_count": 9,
      "outputs": []
    },
    {
      "cell_type": "markdown",
      "source": [
        "#Polimorfismo\n",
        "\n"
      ],
      "metadata": {
        "id": "I1ps3X-tIW--"
      }
    },
    {
      "cell_type": "code",
      "source": [
        "#exemplo\n",
        "print(10 + 20) #o operador + pode ser considerado polimorfico\n",
        "print('Olá' + ' Dev!') #pois conseque se adaptar aos diferentes tipos de dados que são passados para ele\n",
        "print('----------------------------------------------------------------------')\n",
        "\n",
        "class Carro:\n",
        "  def ligar(self):\n",
        "    print(\"Ligando o carro\")\n",
        "class Moto:\n",
        "  def ligar(self):\n",
        "    print(\"Ligando a moto\")\n",
        "def iniciar(veiculo):\n",
        "  veiculo.ligar()\n",
        "carro = Carro()\n",
        "moto = Moto()\n",
        "\n",
        "iniciar(carro)\n",
        "iniciar(moto)\n",
        "\n",
        "class Pessoa:\n",
        "  '''\n",
        "   =====Isso não é válido para o python====\n",
        "  def apresentar(self, nome):\n",
        "    print(nome)\n",
        "  def apresentar(self,nome,idade):\n",
        "    print(nome)\n",
        "  def apresentar(self,nome,idade,profissao):\n",
        "    print(nome)'''\n",
        "  def apresentar(self, nome, idade = None, profissao = None):\n",
        "      if idade and profissao != None:\n",
        "        print(f\"Meu nome é {nome}, tenho {idade} anos, e sou {profissao}\")\n",
        "      elif idade != None:\n",
        "        print(f\"Meu nome é {nome} e tenho {idade} anos\")\n",
        "      elif profissao != None:\n",
        "        print(f\"Meu nome é {nome} e sou {profissao}\")\n",
        "      else:\n",
        "        print(f\"meu nome é {nome}\")\n",
        "  #agora esses atributos não são obrigatórios\n",
        "\n",
        "pessoa1 = Pessoa()\n",
        "pessoa1.apresentar('Daniel')\n",
        "pessoa1.apresentar('Daniel', 20)\n",
        "pessoa1.apresentar('Daniel', profissao = 'Engenheiro')\n",
        "pessoa1.apresentar('Daniel',idade = 20, profissao = 'Engenheiro')\n",
        "\n",
        "\n",
        "\n",
        "\n"
      ],
      "metadata": {
        "colab": {
          "base_uri": "https://localhost:8080/"
        },
        "id": "Ce2vLjNVIeHQ",
        "outputId": "ed46d0b5-666d-4691-c66b-7b4164e0b054"
      },
      "execution_count": 18,
      "outputs": [
        {
          "output_type": "stream",
          "name": "stdout",
          "text": [
            "30\n",
            "Olá Dev!\n",
            "----------------------------------------------------------------------\n",
            "Ligando o carro\n",
            "Ligando a moto\n",
            "meu nome é Daniel\n",
            "Meu nome é Daniel e tenho 20 anos\n",
            "Meu nome é Daniel e sou Engenheiro\n",
            "Meu nome é Daniel, tenho 20 anos, e sou Engenheiro\n"
          ]
        }
      ]
    }
  ]
}