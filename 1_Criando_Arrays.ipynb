{
  "nbformat": 4,
  "nbformat_minor": 0,
  "metadata": {
    "colab": {
      "provenance": [],
      "authorship_tag": "ABX9TyP641agnnzT+r5mPe1zkGXP",
      "include_colab_link": true
    },
    "kernelspec": {
      "name": "python3",
      "display_name": "Python 3"
    },
    "language_info": {
      "name": "python"
    }
  },
  "cells": [
    {
      "cell_type": "markdown",
      "metadata": {
        "id": "view-in-github",
        "colab_type": "text"
      },
      "source": [
        "<a href=\"https://colab.research.google.com/github/danielduartt/POO-Python/blob/main/1_Criando_Arrays.ipynb\" target=\"_parent\"><img src=\"https://colab.research.google.com/assets/colab-badge.svg\" alt=\"Open In Colab\"/></a>"
      ]
    },
    {
      "cell_type": "code",
      "execution_count": null,
      "metadata": {
        "id": "dqTl7qc480oR"
      },
      "outputs": [],
      "source": [
        "import numpy as np"
      ]
    },
    {
      "cell_type": "markdown",
      "source": [
        "#**Resumo do arquivo 'Saindo do Zero em Numpy' :**\n",
        "*  Criando matrizes\n",
        "\n",
        "\n"
      ],
      "metadata": {
        "id": "_Ewz9coS-32_"
      }
    },
    {
      "cell_type": "code",
      "source": [
        "#Criando matriz:\n",
        "arr = np.array([1, 2, 3])\n",
        "#Matriz de zeros com shape específico:\n",
        "arr2 = np.zeros(shape = (2, 3, 2))\n",
        "#Matriz de valores iguais a 1 inteiros:\n",
        "arr3 = np.ones(shape = (2, 3), dtype = np.int32) #2 Linhas, 3 Colunas\n",
        "#Criar números específicos ( tipo a função range ):\n",
        "arr4 = np.arange(start = 1, stop = 11, step = 1) #1 até 10 pulando de 1 em 1\n",
        "#Criando um array linear\n",
        "arr5 = np.linspace(start = 0, stop = 100, num = 20, endpoint = False, retstep = False)\n",
        "#Bastante coisa nesse..., o start é padrão, bem como o stop\n",
        "#Num = número de elementos entre 0, 100\n",
        "#endpoint = False => não considera o 100 no conjunto estudado [0, 100[\n",
        "#endpoint = True => considera o 100 [0, 100]\n",
        "#restep = diferença entre cada valor"
      ],
      "metadata": {
        "id": "nC60_Lg6_SFe"
      },
      "execution_count": null,
      "outputs": []
    },
    {
      "cell_type": "markdown",
      "source": [
        "#**Criando um array de tipo específico:**\n",
        "\n"
      ],
      "metadata": {
        "id": "QQAC-rKq85mR"
      }
    },
    {
      "cell_type": "code",
      "source": [
        "mtfloat = np.array([1, 2, 3], dtype = np.float64)\n",
        "print(mtfloat)\n",
        "print(type(mtfloat))\n",
        "mtint = np.array([1, 2, 3], dtype = np.int32)\n",
        "print(mtint)"
      ],
      "metadata": {
        "colab": {
          "base_uri": "https://localhost:8080/"
        },
        "id": "nMskDHTV9DDs",
        "outputId": "9f632624-6572-46d1-b7d3-b3aa006a8bd0"
      },
      "execution_count": null,
      "outputs": [
        {
          "output_type": "stream",
          "name": "stdout",
          "text": [
            "[1. 2. 3.]\n",
            "<class 'numpy.ndarray'>\n",
            "[1 2 3]\n"
          ]
        }
      ]
    },
    {
      "cell_type": "markdown",
      "source": [
        "#**Mudando o tipo de um Array:**"
      ],
      "metadata": {
        "id": "EmafF0ZT9rtt"
      }
    },
    {
      "cell_type": "code",
      "source": [
        "mt = np.array([1.4, 3.2, -5.3, 0.42, 4.9999])\n",
        "print(type(mt[0]))\n",
        "#Mudando para tipo inteiro 32 bits\n",
        "mt = mt.astype(np.int32)\n",
        "print(type(mt[0]))\n"
      ],
      "metadata": {
        "colab": {
          "base_uri": "https://localhost:8080/"
        },
        "id": "QhiD04vx9vr3",
        "outputId": "9f8acc8e-14c8-4009-dae8-655b31c38d07"
      },
      "execution_count": null,
      "outputs": [
        {
          "output_type": "stream",
          "name": "stdout",
          "text": [
            "<class 'numpy.float64'>\n",
            "<class 'numpy.int32'>\n"
          ]
        }
      ]
    },
    {
      "cell_type": "markdown",
      "source": [
        "#**Criando matriz de n dimensões:**"
      ],
      "metadata": {
        "id": "28KFjGpO-pzV"
      }
    },
    {
      "cell_type": "code",
      "source": [
        "mt = np.array([[1, 2, 3], [4, 5, 6]], dtype = np.int32)\n",
        "print(mt)"
      ],
      "metadata": {
        "colab": {
          "base_uri": "https://localhost:8080/"
        },
        "id": "phl0a4Ja-wTO",
        "outputId": "2bf0d28f-99f0-42ff-f56d-c9f668bb8f8a"
      },
      "execution_count": null,
      "outputs": [
        {
          "output_type": "stream",
          "name": "stdout",
          "text": [
            "[[1 2 3]\n",
            " [4 5 6]]\n"
          ]
        }
      ]
    },
    {
      "cell_type": "markdown",
      "source": [
        "#**Criando arrays tipificado:**"
      ],
      "metadata": {
        "id": "4uMrgfVmCkCJ"
      }
    },
    {
      "cell_type": "code",
      "source": [
        "'''\n",
        "empty = np.empty([3,2], dtype = np.int32) #=> não necessariamente é vazio, não vai ser é inicializado\n",
        "zeros = np.zeros([4,3])\n",
        "ones = np.onez([5,7])\n",
        "'''\n",
        "# Matriz Identidade\n",
        "identidade = np.eye(5)\n",
        "print(identidade)"
      ],
      "metadata": {
        "colab": {
          "base_uri": "https://localhost:8080/"
        },
        "id": "KMMJs3N1CpdH",
        "outputId": "590f5a6b-5954-4643-8ba6-cb77543d93a7"
      },
      "execution_count": null,
      "outputs": [
        {
          "output_type": "stream",
          "name": "stdout",
          "text": [
            "[[1. 0. 0. 0. 0.]\n",
            " [0. 1. 0. 0. 0.]\n",
            " [0. 0. 1. 0. 0.]\n",
            " [0. 0. 0. 1. 0.]\n",
            " [0. 0. 0. 0. 1.]]\n"
          ]
        }
      ]
    },
    {
      "cell_type": "markdown",
      "source": [
        "#**Matrizes com valores aleatório**\n"
      ],
      "metadata": {
        "id": "LVWTzQ8VEpzy"
      }
    },
    {
      "cell_type": "code",
      "source": [
        "#Valores aleatórios usando o random\n",
        "ale = np.random.random((3,5)) #3 Linhas, 5 Colunas\n",
        "print(ale)\n",
        "\n",
        "#Distribuição normal\n",
        "print(\"~\"*60)\n",
        "ale2 = np.random.randn((5))\n",
        "print(ale2)\n",
        "\n",
        "#Valores aleatório 3 X 4\n",
        "print(\"~\"*60)\n",
        "ale3 = (10 * np.random.random((3, 4))) #produto escalar\n",
        "print(ale3)\n",
        "\n",
        "#Outra forma de criar uma matriz aleatória\n",
        "print(\"~\"*60)\n",
        "from numpy.random import default_rng\n",
        "rng = default_rng()\n",
        "random = rng.random(3)\n",
        "print(random)\n",
        "print(\"~\"*60)\n",
        "random2 = rng.integers(10, size = (2, 4), endpoint = True) #valroes inteiros entre 0 e 2 [0,10[ com o endpoint = False\n",
        "#Usando o endpoint = True => [0 , 10], o 10 entra no conjunto criado de valores para a matriz\n",
        "print(random2)\n"
      ],
      "metadata": {
        "colab": {
          "base_uri": "https://localhost:8080/"
        },
        "id": "3-yGhozSEtea",
        "outputId": "a065cf74-4596-43ea-b0bf-4db7e00cde49"
      },
      "execution_count": null,
      "outputs": [
        {
          "output_type": "stream",
          "name": "stdout",
          "text": [
            "[[0.76075163 0.65386604 0.78613414 0.37673282 0.11242046]\n",
            " [0.12346895 0.02611977 0.24649215 0.60045258 0.83643938]\n",
            " [0.89208568 0.66554976 0.23036008 0.1888548  0.10004466]]\n",
            "~~~~~~~~~~~~~~~~~~~~~~~~~~~~~~~~~~~~~~~~~~~~~~~~~~~~~~~~~~~~\n",
            "[-1.54928258 -0.16223803  0.25883481  0.43053853  0.10345805]\n",
            "~~~~~~~~~~~~~~~~~~~~~~~~~~~~~~~~~~~~~~~~~~~~~~~~~~~~~~~~~~~~\n",
            "[[0.77929498 9.58238176 5.96599864 0.39455769]\n",
            " [0.40439485 7.40469911 1.36403421 0.8008245 ]\n",
            " [1.35080263 0.42009682 6.13405841 0.53664641]]\n",
            "~~~~~~~~~~~~~~~~~~~~~~~~~~~~~~~~~~~~~~~~~~~~~~~~~~~~~~~~~~~~\n",
            "[0.9040228  0.87205385 0.30015204]\n",
            "~~~~~~~~~~~~~~~~~~~~~~~~~~~~~~~~~~~~~~~~~~~~~~~~~~~~~~~~~~~~\n",
            "[[ 9  6  5 10]\n",
            " [10  2  6  4]]\n"
          ]
        }
      ]
    }
  ]
}